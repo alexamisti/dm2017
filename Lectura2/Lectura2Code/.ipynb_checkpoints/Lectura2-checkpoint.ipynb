{
 "cells": [
  {
   "cell_type": "code",
   "execution_count": 10,
   "metadata": {
    "collapsed": false
   },
   "outputs": [],
   "source": [
    "import re\n",
    "import pandas as pd\n",
    "import numpy as np\n",
    "import os\n",
    "from os import listdir\n",
    "from os.path import isfile, join\n",
    "from  sklearn import preprocessing\n",
    "from scipy.spatial import distance\n"
   ]
  },
  {
   "cell_type": "code",
   "execution_count": 2,
   "metadata": {
    "collapsed": false
   },
   "outputs": [],
   "source": [
    "class Lectura2:\n",
    "    \n",
    "    def __init__(self,d,Y):\n",
    "        \n",
    "        self.X = d\n",
    "        self.Xd = ' '.join([palabra for palabra in self.X])\n",
    "        self.Y = Y\n",
    "        self.XY = list()\n",
    "        [self.XY.append(x) for x in self.X]\n",
    "        self.XY.append(Y)\n",
    "        self.Xdw = list()\n",
    "        #matriz de terminos del documento\n",
    "        self.mtc = list()\n",
    "        self.indices = ['X'+str(i) for i in range(1,len(self.X)+1)]\n",
    "        self.indices.append('Y')\n",
    "        \n",
    "    def procesa_palabras(self):\n",
    "        [self.Xdw.append(palabra) for palabra in self.Xd.split(' ') if palabra not in self.Xdw]\n",
    "        self.Xdw = sorted(self.Xdw)\n",
    "        \n",
    "    def matriz_terminos(self):\n",
    "        matriz_terminos = list()\n",
    "        l = len(self.XY)\n",
    "        for t in range(0,l):\n",
    "            matriz_terminos.append([0]*len(self.Xdw))\n",
    "    \n",
    "        for k,documentos in enumerate(self.XY):\n",
    "            for v in documentos.split(' '):\n",
    "                if(v in self.Xdw):\n",
    "                    matriz_terminos[k][self.Xdw.index(v)]+=1\n",
    "        self.mtc = matriz_terminos\n",
    "        \n",
    "        return pd.DataFrame(matriz_terminos,columns=self.Xdw, index=self.indices)\n",
    "    \n",
    "    def get_matriz_terminos(self):\n",
    "        return self.mtc\n",
    "    \n",
    "    def distancia_euclidiana(self,matriz,columna):\n",
    "        distancia = list()\n",
    "        l = len(matriz)\n",
    "        for i in range(0,l):\n",
    "            distancia.append(distance.euclidean(tuple(matriz[i]),\n",
    "                                     tuple(matriz[l-1])))\n",
    "        return pd.DataFrame(distancia,columns=[columna], index=self.indices)\n",
    "    \n",
    "    def distancia_manhattan(self,matriz,columna):\n",
    "        distancia = list()\n",
    "        l = len(matriz)\n",
    "        for i in range(0,l):\n",
    "            distancia.append(distance.cityblock(tuple(matriz[i]),\n",
    "                                     tuple(matriz[l-1])))\n",
    "        return pd.DataFrame(distancia,columns=[columna], index=self.indices)\n",
    "    \n",
    "    def normalizacion_documento(self,matriz):\n",
    "        longitudes = list()\n",
    "        l = len(matriz)\n",
    "        for i in range(0,l):\n",
    "            norma = np.divide(matriz[i],sum(matriz[i]))\n",
    "            longitudes.append(norma)\n",
    "        #print(longitudes)\n",
    "        return longitudes\n",
    "    def normalizacion_l2(self,matriz):\n",
    "        longitudes = list()\n",
    "        l = len(matriz)\n",
    "        for i in range(0,l):\n",
    "            X_normalizado = preprocessing.normalize(matriz[i], norm='l2')\n",
    "            longitudes.append(X_normalizado.T)\n",
    "        return longitudes"
   ]
  },
  {
   "cell_type": "code",
   "execution_count": 3,
   "metadata": {
    "collapsed": false
   },
   "outputs": [
    {
     "name": "stdout",
     "output_type": "stream",
     "text": [
      "    Distancia Euclidiana\n",
      "X1              2.645751\n",
      "X2              3.162278\n",
      "Y               0.000000\n"
     ]
    }
   ],
   "source": [
    "d = ['Los alumnos aman la minería de datos',\n",
    "    'El profesor y los alumnos odian realmente odian la minería de datos']\n",
    "\n",
    "Y = 'odian minería'\n",
    "ejercicio = Lectura2(d,Y)\n",
    "ejercicio.procesa_palabras()\n",
    "datos = ejercicio.matriz_terminos()\n",
    "mtc = ejercicio.get_matriz_terminos()\n",
    "distancia = ejercicio.distancia_euclidiana(mtc,'Distancia Euclidiana')\n",
    "print(distancia)"
   ]
  },
  {
   "cell_type": "code",
   "execution_count": 13,
   "metadata": {
    "collapsed": false
   },
   "outputs": [
    {
     "data": {
      "text/html": [
       "<div>\n",
       "<table border=\"1\" class=\"dataframe\">\n",
       "  <thead>\n",
       "    <tr style=\"text-align: right;\">\n",
       "      <th></th>\n",
       "      <th>El</th>\n",
       "      <th>Los</th>\n",
       "      <th>alumnos</th>\n",
       "      <th>aman</th>\n",
       "      <th>datos</th>\n",
       "      <th>de</th>\n",
       "      <th>la</th>\n",
       "      <th>los</th>\n",
       "      <th>minería</th>\n",
       "      <th>odian</th>\n",
       "      <th>profesor</th>\n",
       "      <th>realmente</th>\n",
       "      <th>y</th>\n",
       "    </tr>\n",
       "  </thead>\n",
       "  <tbody>\n",
       "    <tr>\n",
       "      <th>X1</th>\n",
       "      <td>0</td>\n",
       "      <td>1</td>\n",
       "      <td>1</td>\n",
       "      <td>1</td>\n",
       "      <td>1</td>\n",
       "      <td>1</td>\n",
       "      <td>1</td>\n",
       "      <td>0</td>\n",
       "      <td>1</td>\n",
       "      <td>0</td>\n",
       "      <td>0</td>\n",
       "      <td>0</td>\n",
       "      <td>0</td>\n",
       "    </tr>\n",
       "    <tr>\n",
       "      <th>X2</th>\n",
       "      <td>1</td>\n",
       "      <td>0</td>\n",
       "      <td>1</td>\n",
       "      <td>0</td>\n",
       "      <td>1</td>\n",
       "      <td>1</td>\n",
       "      <td>1</td>\n",
       "      <td>1</td>\n",
       "      <td>1</td>\n",
       "      <td>2</td>\n",
       "      <td>1</td>\n",
       "      <td>1</td>\n",
       "      <td>1</td>\n",
       "    </tr>\n",
       "    <tr>\n",
       "      <th>Y</th>\n",
       "      <td>0</td>\n",
       "      <td>0</td>\n",
       "      <td>0</td>\n",
       "      <td>0</td>\n",
       "      <td>0</td>\n",
       "      <td>0</td>\n",
       "      <td>0</td>\n",
       "      <td>0</td>\n",
       "      <td>1</td>\n",
       "      <td>1</td>\n",
       "      <td>0</td>\n",
       "      <td>0</td>\n",
       "      <td>0</td>\n",
       "    </tr>\n",
       "  </tbody>\n",
       "</table>\n",
       "</div>"
      ],
      "text/plain": [
       "    El  Los  alumnos  aman  datos  de  la  los  minería  odian  profesor  \\\n",
       "X1   0    1        1     1      1   1   1    0        1      0         0   \n",
       "X2   1    0        1     0      1   1   1    1        1      2         1   \n",
       "Y    0    0        0     0      0   0   0    0        1      1         0   \n",
       "\n",
       "    realmente  y  \n",
       "X1          0  0  \n",
       "X2          1  1  \n",
       "Y           0  0  "
      ]
     },
     "execution_count": 13,
     "metadata": {},
     "output_type": "execute_result"
    }
   ],
   "source": [
    "datos"
   ]
  },
  {
   "cell_type": "code",
   "execution_count": 32,
   "metadata": {
    "collapsed": false
   },
   "outputs": [],
   "source": [
    "directorio = os.path.normpath(\"documentos\")"
   ]
  },
  {
   "cell_type": "code",
   "execution_count": 40,
   "metadata": {
    "collapsed": false
   },
   "outputs": [],
   "source": [
    "docs = list()\n",
    "archivos = [join('documentos', f) for f in listdir('documentos') if isfile(join('documentos', f))]\n",
    "for archivo in archivos:\n",
    "    with open(archivo,'rb') as a:\n",
    "        #print(a.read())\n",
    "        docs.append(a.read().decode('utf8'))\n",
    "Y1 = 'inteligencia OSINT información documentos'"
   ]
  },
  {
   "cell_type": "code",
   "execution_count": 41,
   "metadata": {
    "collapsed": false
   },
   "outputs": [
    {
     "data": {
      "text/plain": [
       "['OSINT o Inteligencia de Fuentes Abiertas de acuerdo con sus siglas en inglés es una clase de inteligencia que se estructura a partir de la gestión y elaboración procedente de fuentes de datos e información públicas. Estamos ante diferentes tipos de información a los que se puede acceder libremente imágenes documentos audio independientemente del soporte o de que se ponga al alcance del público general de manera 100% gratuita a través de plataformas de acceso restringido o mediante pago',\n",
       " 'Inteligencia proveniente de recursos abiertos es decir de informacion disponible publicamente: medios de comunicación leyes presupuestos declaraciones dentro de este análisis de información abierta también podrían incluirse los análisis sociológicos o el perfil psicológico de jefes de estado y de gobierno análisis grafológicos etc este tipo de fuente representa hasta el 85% de la información bruta que recibe un servicio de inteligencia',\n",
       " 'Inteligencia humana que aparece abreviado a veces como HUMINT procedente del inglés Human intelligence se corresponde con una serie de disciplinas que tienen como objeto la captura de información de inteligencia La OTAN define Inteligencia humana como Una categoría de la inteligencia derivada de la información recogida y proporcionada por fuentes humanas']"
      ]
     },
     "execution_count": 41,
     "metadata": {},
     "output_type": "execute_result"
    }
   ],
   "source": [
    "docs"
   ]
  },
  {
   "cell_type": "code",
   "execution_count": 42,
   "metadata": {
    "collapsed": false
   },
   "outputs": [
    {
     "name": "stderr",
     "output_type": "stream",
     "text": [
      "//anaconda/lib/python3.5/site-packages/sklearn/utils/validation.py:386: DeprecationWarning: Passing 1d arrays as data is deprecated in 0.17 and willraise ValueError in 0.19. Reshape your data either using X.reshape(-1, 1) if your data has a single feature or X.reshape(1, -1) if it contains a single sample.\n",
      "  DeprecationWarning)\n",
      "//anaconda/lib/python3.5/site-packages/sklearn/utils/validation.py:386: DeprecationWarning: Passing 1d arrays as data is deprecated in 0.17 and willraise ValueError in 0.19. Reshape your data either using X.reshape(-1, 1) if your data has a single feature or X.reshape(1, -1) if it contains a single sample.\n",
      "  DeprecationWarning)\n",
      "//anaconda/lib/python3.5/site-packages/sklearn/utils/validation.py:386: DeprecationWarning: Passing 1d arrays as data is deprecated in 0.17 and willraise ValueError in 0.19. Reshape your data either using X.reshape(-1, 1) if your data has a single feature or X.reshape(1, -1) if it contains a single sample.\n",
      "  DeprecationWarning)\n",
      "//anaconda/lib/python3.5/site-packages/sklearn/utils/validation.py:386: DeprecationWarning: Passing 1d arrays as data is deprecated in 0.17 and willraise ValueError in 0.19. Reshape your data either using X.reshape(-1, 1) if your data has a single feature or X.reshape(1, -1) if it contains a single sample.\n",
      "  DeprecationWarning)\n"
     ]
    }
   ],
   "source": [
    "ejercicio2 = Lectura2(docs,Y1)\n",
    "ejercicio2.procesa_palabras()\n",
    "datos = ejercicio2.matriz_terminos()\n",
    "matriz_terminos = ejercicio2.get_matriz_terminos()\n",
    "distancia = ejercicio2.distancia_euclidiana(matriz_terminos,'Distancia Euclidiana')\n",
    "norm_documento = ejercicio2.normalizacion_documento(matriz_terminos)\n",
    "norm_l2 = ejercicio2.normalizacion_l2(matriz_terminos)\n",
    "distancia_norm = ejercicio2.distancia_euclidiana(norm_documento,'Distancia Euclidiana/NormaDoc')\n",
    "distancia_norm_l2 = ejercicio2.distancia_euclidiana(norm_l2,'Distancia Euclidiana/NormaL2')"
   ]
  },
  {
   "cell_type": "code",
   "execution_count": 43,
   "metadata": {
    "collapsed": false
   },
   "outputs": [
    {
     "data": {
      "text/html": [
       "<div>\n",
       "<table border=\"1\" class=\"dataframe\">\n",
       "  <thead>\n",
       "    <tr style=\"text-align: right;\">\n",
       "      <th></th>\n",
       "      <th>100%</th>\n",
       "      <th>85%</th>\n",
       "      <th>Abiertas</th>\n",
       "      <th>Estamos</th>\n",
       "      <th>Fuentes</th>\n",
       "      <th>HUMINT</th>\n",
       "      <th>Human</th>\n",
       "      <th>Inteligencia</th>\n",
       "      <th>La</th>\n",
       "      <th>OSINT</th>\n",
       "      <th>...</th>\n",
       "      <th>sus</th>\n",
       "      <th>también</th>\n",
       "      <th>tienen</th>\n",
       "      <th>tipo</th>\n",
       "      <th>tipos</th>\n",
       "      <th>través</th>\n",
       "      <th>un</th>\n",
       "      <th>una</th>\n",
       "      <th>veces</th>\n",
       "      <th>y</th>\n",
       "    </tr>\n",
       "  </thead>\n",
       "  <tbody>\n",
       "    <tr>\n",
       "      <th>X1</th>\n",
       "      <td>1</td>\n",
       "      <td>0</td>\n",
       "      <td>1</td>\n",
       "      <td>1</td>\n",
       "      <td>1</td>\n",
       "      <td>0</td>\n",
       "      <td>0</td>\n",
       "      <td>1</td>\n",
       "      <td>0</td>\n",
       "      <td>1</td>\n",
       "      <td>...</td>\n",
       "      <td>1</td>\n",
       "      <td>0</td>\n",
       "      <td>0</td>\n",
       "      <td>0</td>\n",
       "      <td>1</td>\n",
       "      <td>1</td>\n",
       "      <td>0</td>\n",
       "      <td>1</td>\n",
       "      <td>0</td>\n",
       "      <td>1</td>\n",
       "    </tr>\n",
       "    <tr>\n",
       "      <th>X2</th>\n",
       "      <td>0</td>\n",
       "      <td>1</td>\n",
       "      <td>0</td>\n",
       "      <td>0</td>\n",
       "      <td>0</td>\n",
       "      <td>0</td>\n",
       "      <td>0</td>\n",
       "      <td>1</td>\n",
       "      <td>0</td>\n",
       "      <td>0</td>\n",
       "      <td>...</td>\n",
       "      <td>0</td>\n",
       "      <td>1</td>\n",
       "      <td>0</td>\n",
       "      <td>1</td>\n",
       "      <td>0</td>\n",
       "      <td>0</td>\n",
       "      <td>1</td>\n",
       "      <td>0</td>\n",
       "      <td>0</td>\n",
       "      <td>1</td>\n",
       "    </tr>\n",
       "    <tr>\n",
       "      <th>X3</th>\n",
       "      <td>0</td>\n",
       "      <td>0</td>\n",
       "      <td>0</td>\n",
       "      <td>0</td>\n",
       "      <td>0</td>\n",
       "      <td>1</td>\n",
       "      <td>1</td>\n",
       "      <td>2</td>\n",
       "      <td>1</td>\n",
       "      <td>0</td>\n",
       "      <td>...</td>\n",
       "      <td>0</td>\n",
       "      <td>0</td>\n",
       "      <td>1</td>\n",
       "      <td>0</td>\n",
       "      <td>0</td>\n",
       "      <td>0</td>\n",
       "      <td>0</td>\n",
       "      <td>1</td>\n",
       "      <td>1</td>\n",
       "      <td>1</td>\n",
       "    </tr>\n",
       "    <tr>\n",
       "      <th>Y</th>\n",
       "      <td>0</td>\n",
       "      <td>0</td>\n",
       "      <td>0</td>\n",
       "      <td>0</td>\n",
       "      <td>0</td>\n",
       "      <td>0</td>\n",
       "      <td>0</td>\n",
       "      <td>0</td>\n",
       "      <td>0</td>\n",
       "      <td>1</td>\n",
       "      <td>...</td>\n",
       "      <td>0</td>\n",
       "      <td>0</td>\n",
       "      <td>0</td>\n",
       "      <td>0</td>\n",
       "      <td>0</td>\n",
       "      <td>0</td>\n",
       "      <td>0</td>\n",
       "      <td>0</td>\n",
       "      <td>0</td>\n",
       "      <td>0</td>\n",
       "    </tr>\n",
       "  </tbody>\n",
       "</table>\n",
       "<p>4 rows × 120 columns</p>\n",
       "</div>"
      ],
      "text/plain": [
       "    100%  85%  Abiertas  Estamos  Fuentes  HUMINT  Human  Inteligencia  La  \\\n",
       "X1     1    0         1        1        1       0      0             1   0   \n",
       "X2     0    1         0        0        0       0      0             1   0   \n",
       "X3     0    0         0        0        0       1      1             2   1   \n",
       "Y      0    0         0        0        0       0      0             0   0   \n",
       "\n",
       "    OSINT ...  sus  también  tienen  tipo  tipos  través  un  una  veces  y  \n",
       "X1      1 ...    1        0       0     0      1       1   0    1      0  1  \n",
       "X2      0 ...    0        1       0     1      0       0   1    0      0  1  \n",
       "X3      0 ...    0        0       1     0      0       0   0    1      1  1  \n",
       "Y       1 ...    0        0       0     0      0       0   0    0      0  0  \n",
       "\n",
       "[4 rows x 120 columns]"
      ]
     },
     "execution_count": 43,
     "metadata": {},
     "output_type": "execute_result"
    }
   ],
   "source": [
    "datos"
   ]
  },
  {
   "cell_type": "code",
   "execution_count": 33,
   "metadata": {
    "collapsed": false
   },
   "outputs": [
    {
     "name": "stderr",
     "output_type": "stream",
     "text": [
      "C:\\Users\\A C E R\\Anaconda3\\lib\\site-packages\\sklearn\\utils\\validation.py:386: DeprecationWarning: Passing 1d arrays as data is deprecated in 0.17 and willraise ValueError in 0.19. Reshape your data either using X.reshape(-1, 1) if your data has a single feature or X.reshape(1, -1) if it contains a single sample.\n",
      "  DeprecationWarning)\n",
      "C:\\Users\\A C E R\\Anaconda3\\lib\\site-packages\\sklearn\\utils\\validation.py:386: DeprecationWarning: Passing 1d arrays as data is deprecated in 0.17 and willraise ValueError in 0.19. Reshape your data either using X.reshape(-1, 1) if your data has a single feature or X.reshape(1, -1) if it contains a single sample.\n",
      "  DeprecationWarning)\n",
      "C:\\Users\\A C E R\\Anaconda3\\lib\\site-packages\\sklearn\\utils\\validation.py:386: DeprecationWarning: Passing 1d arrays as data is deprecated in 0.17 and willraise ValueError in 0.19. Reshape your data either using X.reshape(-1, 1) if your data has a single feature or X.reshape(1, -1) if it contains a single sample.\n",
      "  DeprecationWarning)\n",
      "C:\\Users\\A C E R\\Anaconda3\\lib\\site-packages\\sklearn\\utils\\validation.py:386: DeprecationWarning: Passing 1d arrays as data is deprecated in 0.17 and willraise ValueError in 0.19. Reshape your data either using X.reshape(-1, 1) if your data has a single feature or X.reshape(1, -1) if it contains a single sample.\n",
      "  DeprecationWarning)\n",
      "C:\\Users\\A C E R\\Anaconda3\\lib\\site-packages\\sklearn\\utils\\validation.py:386: DeprecationWarning: Passing 1d arrays as data is deprecated in 0.17 and willraise ValueError in 0.19. Reshape your data either using X.reshape(-1, 1) if your data has a single feature or X.reshape(1, -1) if it contains a single sample.\n",
      "  DeprecationWarning)\n"
     ]
    }
   ],
   "source": [
    "norm_l2 = ejercicio2.normalizacion_l2(matriz_terminos)"
   ]
  },
  {
   "cell_type": "code",
   "execution_count": 34,
   "metadata": {
    "collapsed": false
   },
   "outputs": [
    {
     "data": {
      "text/html": [
       "<div>\n",
       "<table border=\"1\" class=\"dataframe\">\n",
       "  <thead>\n",
       "    <tr style=\"text-align: right;\">\n",
       "      <th></th>\n",
       "      <th>Distancia Euclidiana</th>\n",
       "    </tr>\n",
       "  </thead>\n",
       "  <tbody>\n",
       "    <tr>\n",
       "      <th>X0</th>\n",
       "      <td>13.304135</td>\n",
       "    </tr>\n",
       "    <tr>\n",
       "      <th>X1</th>\n",
       "      <td>2.236068</td>\n",
       "    </tr>\n",
       "    <tr>\n",
       "      <th>X2</th>\n",
       "      <td>8.944272</td>\n",
       "    </tr>\n",
       "    <tr>\n",
       "      <th>X3</th>\n",
       "      <td>17.578396</td>\n",
       "    </tr>\n",
       "    <tr>\n",
       "      <th>Y</th>\n",
       "      <td>0.000000</td>\n",
       "    </tr>\n",
       "  </tbody>\n",
       "</table>\n",
       "</div>"
      ],
      "text/plain": [
       "    Distancia Euclidiana\n",
       "X0             13.304135\n",
       "X1              2.236068\n",
       "X2              8.944272\n",
       "X3             17.578396\n",
       "Y               0.000000"
      ]
     },
     "execution_count": 34,
     "metadata": {},
     "output_type": "execute_result"
    }
   ],
   "source": [
    "distancia"
   ]
  },
  {
   "cell_type": "code",
   "execution_count": 35,
   "metadata": {
    "collapsed": false
   },
   "outputs": [
    {
     "data": {
      "text/html": [
       "<div>\n",
       "<table border=\"1\" class=\"dataframe\">\n",
       "  <thead>\n",
       "    <tr style=\"text-align: right;\">\n",
       "      <th></th>\n",
       "      <th>Distancia Euclidiana/NormaDoc</th>\n",
       "    </tr>\n",
       "  </thead>\n",
       "  <tbody>\n",
       "    <tr>\n",
       "      <th>X0</th>\n",
       "      <td>0.580050</td>\n",
       "    </tr>\n",
       "    <tr>\n",
       "      <th>X1</th>\n",
       "      <td>0.645497</td>\n",
       "    </tr>\n",
       "    <tr>\n",
       "      <th>X2</th>\n",
       "      <td>0.619643</td>\n",
       "    </tr>\n",
       "    <tr>\n",
       "      <th>X3</th>\n",
       "      <td>0.587262</td>\n",
       "    </tr>\n",
       "    <tr>\n",
       "      <th>Y</th>\n",
       "      <td>0.000000</td>\n",
       "    </tr>\n",
       "  </tbody>\n",
       "</table>\n",
       "</div>"
      ],
      "text/plain": [
       "    Distancia Euclidiana/NormaDoc\n",
       "X0                       0.580050\n",
       "X1                       0.645497\n",
       "X2                       0.619643\n",
       "X3                       0.587262\n",
       "Y                        0.000000"
      ]
     },
     "execution_count": 35,
     "metadata": {},
     "output_type": "execute_result"
    }
   ],
   "source": [
    "distancia_norm"
   ]
  },
  {
   "cell_type": "code",
   "execution_count": 36,
   "metadata": {
    "collapsed": false
   },
   "outputs": [
    {
     "data": {
      "text/html": [
       "<div>\n",
       "<table border=\"1\" class=\"dataframe\">\n",
       "  <thead>\n",
       "    <tr style=\"text-align: right;\">\n",
       "      <th></th>\n",
       "      <th>Distancia Euclidiana/NormaL2</th>\n",
       "    </tr>\n",
       "  </thead>\n",
       "  <tbody>\n",
       "    <tr>\n",
       "      <th>X0</th>\n",
       "      <td>1.319773</td>\n",
       "    </tr>\n",
       "    <tr>\n",
       "      <th>X1</th>\n",
       "      <td>1.192749</td>\n",
       "    </tr>\n",
       "    <tr>\n",
       "      <th>X2</th>\n",
       "      <td>1.414214</td>\n",
       "    </tr>\n",
       "    <tr>\n",
       "      <th>X3</th>\n",
       "      <td>1.367053</td>\n",
       "    </tr>\n",
       "    <tr>\n",
       "      <th>Y</th>\n",
       "      <td>0.000000</td>\n",
       "    </tr>\n",
       "  </tbody>\n",
       "</table>\n",
       "</div>"
      ],
      "text/plain": [
       "    Distancia Euclidiana/NormaL2\n",
       "X0                      1.319773\n",
       "X1                      1.192749\n",
       "X2                      1.414214\n",
       "X3                      1.367053\n",
       "Y                       0.000000"
      ]
     },
     "execution_count": 36,
     "metadata": {},
     "output_type": "execute_result"
    }
   ],
   "source": [
    "distancia_norm_l2"
   ]
  },
  {
   "cell_type": "code",
   "execution_count": null,
   "metadata": {
    "collapsed": true
   },
   "outputs": [],
   "source": []
  },
  {
   "cell_type": "code",
   "execution_count": null,
   "metadata": {
    "collapsed": true
   },
   "outputs": [],
   "source": []
  }
 ],
 "metadata": {
  "anaconda-cloud": {},
  "kernelspec": {
   "display_name": "Python [default]",
   "language": "python",
   "name": "python3"
  },
  "language_info": {
   "codemirror_mode": {
    "name": "ipython",
    "version": 3
   },
   "file_extension": ".py",
   "mimetype": "text/x-python",
   "name": "python",
   "nbconvert_exporter": "python",
   "pygments_lexer": "ipython3",
   "version": "3.5.2"
  }
 },
 "nbformat": 4,
 "nbformat_minor": 0
}
