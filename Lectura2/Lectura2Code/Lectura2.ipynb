{
 "cells": [
  {
   "cell_type": "markdown",
   "metadata": {},
   "source": [
    "# Lectura 2: Recuperación de la información"
   ]
  },
  {
   "cell_type": "code",
   "execution_count": null,
   "metadata": {
    "collapsed": false
   },
   "outputs": [],
   "source": [
    "import re\n",
    "import pandas as pd\n",
    "import numpy as np\n",
    "import os\n",
    "from os import listdir\n",
    "from os.path import isfile, join\n",
    "from  sklearn import preprocessing\n",
    "from scipy.spatial import distance"
   ]
  },
  {
   "cell_type": "markdown",
   "metadata": {},
   "source": [
    "En la siguiente clase se encuentra el código para realizar el conteo de bolsas de palabras $X_{d}$ dados $D$ documentos"
   ]
  },
  {
   "cell_type": "code",
   "execution_count": null,
   "metadata": {
    "collapsed": false
   },
   "outputs": [],
   "source": [
    "class Lectura2:\n",
    "    \n",
    "    def __init__(self,d,Y):\n",
    "        #Vector de documentos D\n",
    "        self.X = d\n",
    "        #Vector de conteo\n",
    "        self.Xd = ' '.join([palabra for palabra in self.X])\n",
    "        #Consulta\n",
    "        self.Y = Y\n",
    "        #Vector de consulta\n",
    "        self.XY = list()\n",
    "        [self.XY.append(x) for x in self.X]\n",
    "        self.XY.append(Y)\n",
    "        self.Xdw = list()\n",
    "        #matriz de terminos del documento\n",
    "        self.mtc = list()\n",
    "        self.indices = ['X'+str(i) for i in range(1,len(self.X)+1)]\n",
    "        self.indices.append('Y')\n",
    "        \n",
    "    def procesa_palabras(self):\n",
    "        [self.Xdw.append(palabra) for palabra in self.Xd.split(' ') if palabra not in self.Xdw]\n",
    "        self.Xdw = sorted(self.Xdw)\n",
    "        \n",
    "    def matriz_terminos(self):\n",
    "        matriz_terminos = list()\n",
    "        l = len(self.XY)\n",
    "        for t in range(0,l):\n",
    "            matriz_terminos.append([0]*len(self.Xdw))\n",
    "    \n",
    "        for k,documentos in enumerate(self.XY):\n",
    "            for v in documentos.split(' '):\n",
    "                if(v in self.Xdw):\n",
    "                    matriz_terminos[k][self.Xdw.index(v)]+=1\n",
    "        self.mtc = matriz_terminos\n",
    "        \n",
    "        return pd.DataFrame(matriz_terminos,columns=self.Xdw, index=self.indices)\n",
    "    \n",
    "    def get_matriz_terminos(self):\n",
    "        return self.mtc\n",
    "    \n",
    "    def distancia_euclidiana(self,matriz,columna):\n",
    "        distancia = list()\n",
    "        l = len(matriz)\n",
    "        for i in range(0,l):\n",
    "            distancia.append(distance.euclidean(tuple(matriz[i]),\n",
    "                                     tuple(matriz[l-1])))\n",
    "        return pd.DataFrame(distancia,columns=[columna], index=self.indices)\n",
    "    \n",
    "    def distancia_manhattan(self,matriz,columna):\n",
    "        distancia = list()\n",
    "        l = len(matriz)\n",
    "        for i in range(0,l):\n",
    "            distancia.append(distance.cityblock(tuple(matriz[i]),\n",
    "                                     tuple(matriz[l-1])))\n",
    "        return pd.DataFrame(distancia,columns=[columna], index=self.indices)\n",
    "    \n",
    "    def normalizacion_documento(self,matriz):\n",
    "        longitudes = list()\n",
    "        l = len(matriz)\n",
    "        for i in range(0,l):\n",
    "            norma = np.divide(matriz[i],sum(matriz[i]))\n",
    "            longitudes.append(norma)\n",
    "        #print(longitudes)\n",
    "        return longitudes\n",
    "    def normalizacion_l2(self,matriz):\n",
    "        longitudes = list()\n",
    "        l = len(matriz)\n",
    "        for i in range(0,l):\n",
    "            X_normalizado = preprocessing.normalize(matriz[i], norm='l2')\n",
    "            longitudes.append(X_normalizado.T)\n",
    "        return longitudes"
   ]
  },
  {
   "cell_type": "markdown",
   "metadata": {},
   "source": [
    "**Ejercicio 1** con dos oraciones como $D$ documentos"
   ]
  },
  {
   "cell_type": "code",
   "execution_count": null,
   "metadata": {
    "collapsed": false
   },
   "outputs": [],
   "source": [
    "d = ['Los alumnos aman la minería de datos',\n",
    "    'El profesor y los alumnos odian realmente odian la minería de datos']\n",
    "\n",
    "Y = 'odian minería'\n",
    "ejercicio = Lectura2(d,Y)\n",
    "ejercicio.procesa_palabras()\n",
    "datos = ejercicio.matriz_terminos()\n",
    "mtc = ejercicio.get_matriz_terminos()\n",
    "distancia_euclidiana = ejercicio.distancia_euclidiana(mtc,'Distancia Euclidiana')\n",
    "distancia_manhattan = ejercicio.distancia_manhattan(mtc,'Distancia Manhattan')\n",
    "print(distancia_euclidiana)\n",
    "print(distancia_manhattan)"
   ]
  },
  {
   "cell_type": "markdown",
   "metadata": {},
   "source": [
    "**Ejercicio 2** con n documentos $D$ en un directorio"
   ]
  },
  {
   "cell_type": "code",
   "execution_count": null,
   "metadata": {
    "collapsed": false
   },
   "outputs": [],
   "source": [
    "directorio = os.path.normpath(\"documentos\")\n",
    "docs = list()\n",
    "archivos = [join('documentos', f) for f in listdir('documentos') if isfile(join('documentos', f))]\n",
    "for archivo in archivos:\n",
    "    with open(archivo,'rb') as a:\n",
    "        #print(a.read())\n",
    "        docs.append(a.read().decode('utf8'))\n",
    "Y1 = 'inteligencia OSINT información documentos'"
   ]
  },
  {
   "cell_type": "code",
   "execution_count": null,
   "metadata": {
    "collapsed": false
   },
   "outputs": [],
   "source": [
    "ejercicio2 = Lectura2(docs,Y1)\n",
    "ejercicio2.procesa_palabras()\n",
    "datos = ejercicio2.matriz_terminos()\n",
    "matriz_terminos = ejercicio2.get_matriz_terminos()\n",
    "distancia = ejercicio2.distancia_euclidiana(matriz_terminos,'Distancia Euclidiana')\n",
    "distancia_manhattan = ejercicio2.distancia_manhattan(matriz_terminos,'Distancia Manhattan')\n",
    "norm_documento = ejercicio2.normalizacion_documento(matriz_terminos)\n",
    "norm_l2 = ejercicio2.normalizacion_l2(matriz_terminos)\n",
    "distancia_norm = ejercicio2.distancia_euclidiana(norm_documento,'NormaDoc')\n",
    "distancia_norm_l2 = ejercicio2.distancia_euclidiana(norm_l2,'Distancia Euclidiana/NormaL2')"
   ]
  },
  {
   "cell_type": "markdown",
   "metadata": {},
   "source": [
    "**Ejercicio 3** Encontrar información de la MISTI en tres diferentes fuentes de internet, guardar el texto citado de cada una en un diferentes archivos *.txt* y realizar por lo menos dos consultas diferentes, obteniendo la distancia Euclidiana y Manhattan sin normalizar $X_{d}$ y dos diferentes con $X_{d}$ normalizado por longitud y por $\\ell_{2}$"
   ]
  },
  {
   "cell_type": "code",
   "execution_count": null,
   "metadata": {
    "collapsed": true
   },
   "outputs": [],
   "source": []
  }
 ],
 "metadata": {
  "anaconda-cloud": {},
  "kernelspec": {
   "display_name": "Python [default]",
   "language": "python",
   "name": "python3"
  },
  "language_info": {
   "codemirror_mode": {
    "name": "ipython",
    "version": 3
   },
   "file_extension": ".py",
   "mimetype": "text/x-python",
   "name": "python",
   "nbconvert_exporter": "python",
   "pygments_lexer": "ipython3",
   "version": "3.5.2"
  }
 },
 "nbformat": 4,
 "nbformat_minor": 0
}
